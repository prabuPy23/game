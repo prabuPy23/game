{
  "nbformat": 4,
  "nbformat_minor": 0,
  "metadata": {
    "colab": {
      "provenance": [],
      "authorship_tag": "ABX9TyPLTOLKNj1BOlZS7q76gsT7",
      "include_colab_link": true
    },
    "kernelspec": {
      "name": "python3",
      "display_name": "Python 3"
    },
    "language_info": {
      "name": "python"
    }
  },
  "cells": [
    {
      "cell_type": "markdown",
      "metadata": {
        "id": "view-in-github",
        "colab_type": "text"
      },
      "source": [
        "<a href=\"https://colab.research.google.com/github/prabuPy23/game/blob/main/Untitled0.ipynb\" target=\"_parent\"><img src=\"https://colab.research.google.com/assets/colab-badge.svg\" alt=\"Open In Colab\"/></a>"
      ]
    },
    {
      "cell_type": "code",
      "execution_count": 48,
      "metadata": {
        "id": "sejAcjkM0Xrs"
      },
      "outputs": [],
      "source": [
        "import numpy as np\n",
        "import pandas as pd\n",
        "import matplotlib.pyplot as plt\n",
        "from sklearn import linear_model\n",
        "import os\n",
        "from openpyxl import workbook,load_workbook"
      ]
    },
    {
      "cell_type": "code",
      "source": [
        "pets = pd.DataFrame(data = {'name': ['cat','parrot','dog'], 'id':[1,2,3]})\n",
        "print(pets)"
      ],
      "metadata": {
        "colab": {
          "base_uri": "https://localhost:8080/"
        },
        "id": "IsIi3vfp9t3N",
        "outputId": "fda29bae-7af7-4462-fc1e-8da1cf92c07e"
      },
      "execution_count": 49,
      "outputs": [
        {
          "output_type": "stream",
          "name": "stdout",
          "text": [
            "     name  id\n",
            "0     cat   1\n",
            "1  parrot   2\n",
            "2     dog   3\n"
          ]
        }
      ]
    },
    {
      "cell_type": "code",
      "source": [
        "petDate = pd.DataFrame(data = {'id':[1,2,3], 'date': ['1-12','2-13','3-13']})"
      ],
      "metadata": {
        "id": "MdUJtmWT-Ikx"
      },
      "execution_count": 50,
      "outputs": []
    },
    {
      "cell_type": "code",
      "source": [
        "tes = pd.merge(left=pets,right=petDate,how='inner',on='id')\n",
        "print(tes)"
      ],
      "metadata": {
        "colab": {
          "base_uri": "https://localhost:8080/"
        },
        "id": "bXWBxvxIBHBu",
        "outputId": "31c9f18f-63cb-476b-8e10-9969563a9e94"
      },
      "execution_count": 51,
      "outputs": [
        {
          "output_type": "stream",
          "name": "stdout",
          "text": [
            "     name  id  date\n",
            "0     cat   1  1-12\n",
            "1  parrot   2  2-13\n",
            "2     dog   3  3-13\n"
          ]
        }
      ]
    },
    {
      "cell_type": "code",
      "source": [
        "new_table = tes[['id','name','date']].copy()\n",
        "new_table['f-date'] = tes[['date']] + '-24'\n",
        "print(new_table)"
      ],
      "metadata": {
        "colab": {
          "base_uri": "https://localhost:8080/"
        },
        "id": "3Mu1E7byCK-s",
        "outputId": "b1a0a4b2-f3d2-4149-af7d-a49b2ddc63b2"
      },
      "execution_count": 52,
      "outputs": [
        {
          "output_type": "stream",
          "name": "stdout",
          "text": [
            "   id    name  date   f-date\n",
            "0   1     cat  1-12  1-12-24\n",
            "1   2  parrot  2-13  2-13-24\n",
            "2   3     dog  3-13  3-13-24\n"
          ]
        }
      ]
    },
    {
      "cell_type": "code",
      "source": [
        "new_table.rename(columns={'name':'PetName'},inplace=True)\n",
        "print(new_table)"
      ],
      "metadata": {
        "colab": {
          "base_uri": "https://localhost:8080/"
        },
        "id": "1aSo4ezPEDwK",
        "outputId": "8217d93e-a6ae-4ef0-9fa5-0010d1e22cdb"
      },
      "execution_count": 53,
      "outputs": [
        {
          "output_type": "stream",
          "name": "stdout",
          "text": [
            "   id PetName  date   f-date\n",
            "0   1     cat  1-12  1-12-24\n",
            "1   2  parrot  2-13  2-13-24\n",
            "2   3     dog  3-13  3-13-24\n"
          ]
        }
      ]
    },
    {
      "cell_type": "code",
      "source": [
        "new_table['date'] = new_table['date'].str.replace('-','.')"
      ],
      "metadata": {
        "id": "YMP6kw-DEzJx"
      },
      "execution_count": 54,
      "outputs": []
    },
    {
      "cell_type": "code",
      "source": [
        "print(new_table)"
      ],
      "metadata": {
        "colab": {
          "base_uri": "https://localhost:8080/"
        },
        "id": "3nZO87hpHThp",
        "outputId": "ac765390-9737-4ca3-ed82-ecae0e25d015"
      },
      "execution_count": 55,
      "outputs": [
        {
          "output_type": "stream",
          "name": "stdout",
          "text": [
            "   id PetName  date   f-date\n",
            "0   1     cat  1.12  1-12-24\n",
            "1   2  parrot  2.13  2-13-24\n",
            "2   3     dog  3.13  3-13-24\n"
          ]
        }
      ]
    },
    {
      "cell_type": "code",
      "source": [
        "new_table['f-date']=new_table['f-date'].str.replace('-','.')\n",
        "print(new_table)"
      ],
      "metadata": {
        "colab": {
          "base_uri": "https://localhost:8080/"
        },
        "id": "KceaaQDiHamf",
        "outputId": "005e99f5-ef39-498a-8985-072f3fa67544"
      },
      "execution_count": 56,
      "outputs": [
        {
          "output_type": "stream",
          "name": "stdout",
          "text": [
            "   id PetName  date   f-date\n",
            "0   1     cat  1.12  1.12.24\n",
            "1   2  parrot  2.13  2.13.24\n",
            "2   3     dog  3.13  3.13.24\n"
          ]
        }
      ]
    }
  ]
}